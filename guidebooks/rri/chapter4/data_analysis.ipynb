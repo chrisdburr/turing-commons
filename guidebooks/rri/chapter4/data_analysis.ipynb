{
 "cells": [
  {
   "cell_type": "markdown",
   "metadata": {},
   "source": [
    "# Data Analysis\n",
    "This module will introduce and examine the stage of 'exploratory data analysis'. \n",
    "\n",
    "Rather than focusing on the statistical or technical techniques employed in modern data science though, we will approach this stage with a bias-aware perspective. However, we will make use of Jupyter notebooks—a popular tool in data science—to aid our exploratory data analysis[^jupyter] by visualising some data. You do not need to be familiar with either Python or Jupyter Notebooks if you just want to gain an understanding of how social, cognitive, and statistical biases interact and affect downstream stages in the research and innovation lifecycle. But the code is presented for those who wish to get more \"hands-on\".\n",
    "\n",
    "## What is Exploratory Data Analysis?\n",
    "\n",
    "Exploratory data analysis is a crucial stage in the project lifecycle. It is where a number of techniques are employed for the purpose of gaining a better understanding of the dataset and any relationships that exist between the relevant variables. Among other things, this could mean,\n",
    "\n",
    "- Describing the dataset and important variables\n",
    "- Identifying missing data and outliers, and deciding how to handle them\n",
    "- Cleaning the dataset\n",
    "- Provisional analysis of any relationships between variables\n",
    "- Uncovering possible limitations of the dataset (e.g. class imbalances) that could affect the project\n",
    "\n",
    "We will cover each of these sub-stages of EDA briefly, but to reiterate, our primary focus in this section is on the risks and challenges that stem from a variety of biases that can cause cascading issues that affect downstream tasks (e.g. model training).\n",
    "\n",
    "## COVID-19 Hopsital Data\n",
    "\n",
    "For the purpose of this section we have created a synthetic dataset that contains X records for fictional patients who were triaged (and possibly admitted) to a single hospital for treatment of COVID-19. \n",
    "\n",
    "The dataset has been designed with this pedagogical task in mind. Therefore, although we relied upon plausible assumptions when developing our generative model, the data are not intended to be fully representative of actual patients. Our methodology for generating this dataset can be found here.\n",
    "\n",
    "### Importing Data\n",
    "\n",
    "First of all, we need to import our data and the software packages that we will use to describe, analyse, and visualise the data. The following lines of code achieve this, and also loads our data into a DataFrame using the Pandas package:"
   ]
  },
  {
   "cell_type": "code",
   "execution_count": null,
   "metadata": {},
   "outputs": [],
   "source": [
    "# The following lines import necessary packages that help us with the data analysis\n",
    "import numpy as np\n",
    "import pandas as pd\n",
    "import matplotlib.pylab as plt\n",
    "import seaborn as sns\n",
    "\n",
    "# This line imports data from a csv file into a DataFrame (df)\n",
    "\n",
    "df = pd.read_csv('covid_patients_syn_data.csv')"
   ]
  },
  {
   "cell_type": "markdown",
   "metadata": {},
   "source": [
    "### Describing the Data\n"
   ]
  },
  {
   "cell_type": "code",
   "execution_count": null,
   "metadata": {},
   "outputs": [],
   "source": [
    "# This line returns information about the number of rows and the number of columns for a dataset.\n",
    "df.shape\n",
    "\n",
    "# This line returns the first 5 rows of a dataset, which can be useful if you want to see a small sample of values for each variable.\n",
    "df.head() \n",
    "\n",
    "# This line returns the name of all of the columns in your dataset. This is helpful if you want to quickly see which variables you will have access to during your analysis.\n",
    "df.columns \n",
    "\n",
    "# This line returns the number of unique values for each of the variables. For example, in the ethnicity column there are X different values.\n",
    "df.nunique(axis=0)\n",
    "\n",
    "# This line uses the pandas 'describe()' method to provide a summary of the dataset (formatted for readability). This includes the count, mean, standard deviation, min, and max for numeric variables.\n",
    "df.describe().apply(lambda s: s.apply(lambda x: format(x, 'f')))"
   ]
  },
  {
   "cell_type": "markdown",
   "metadata": {},
   "source": [
    "### Cleaning and Querying the Data\n"
   ]
  },
  {
   "cell_type": "code",
   "execution_count": null,
   "metadata": {},
   "outputs": [],
   "source": [
    "#It may be useful to use this section as a way of addressing missingness"
   ]
  },
  {
   "cell_type": "markdown",
   "metadata": {},
   "source": [
    "### Analysing the Data\n"
   ]
  },
  {
   "cell_type": "code",
   "execution_count": null,
   "metadata": {},
   "outputs": [],
   "source": [
    "# The following lines return a correlation matrix, for the cleaned dataframe, using the seaborn package\n",
    "corr = df_cleaned.corr()# plot the heatmap\n",
    "sns.heatmap(corr, xticklabels=corr.columns, yticklabels=corr.columns, annot=True, cmap=sns.diverging_palette(220, 20, as_cmap=True))"
   ]
  },
  {
   "cell_type": "markdown",
   "metadata": {},
   "source": [
    "### Visualising the Data"
   ]
  },
  {
   "cell_type": "code",
   "execution_count": null,
   "metadata": {},
   "outputs": [],
   "source": [
    "# The following line of code allows us to visualise the distribution of variable X as a simple histogram\n",
    "df_cleaned['var_x'].plot(kind='hist', bins=100, figsize=(12,6), facecolor='grey',edgecolor='black')\n",
    "\n",
    "# The following line of code allows us to visualise the distribution of variable X as a boxplot\n",
    "df_cleaned.boxplot('var_x')\n",
    "\n",
    "# The following line of code allows us to visualise the relationship between X and Y as a scatterplot\n",
    "df_cleaned.plot(kind='scatter', x='var_x', y='var_y')\n",
    "\n",
    "# The seaborn package also come with a useful method to quickly create scatterplots for all numeric variables in the dataset\n",
    "sns.pairplot(df_cleaned)"
   ]
  }
 ],
 "metadata": {
  "interpreter": {
   "hash": "916dbcbb3f70747c44a77c7bcd40155683ae19c65e1c03b4aa3499c5328201f1"
  },
  "kernelspec": {
   "display_name": "Python 3.8.5 64-bit",
   "name": "python3"
  },
  "language_info": {
   "codemirror_mode": {
    "name": "ipython",
    "version": 3
   },
   "file_extension": ".py",
   "mimetype": "text/x-python",
   "name": "python",
   "nbconvert_exporter": "python",
   "pygments_lexer": "ipython3",
   "version": "3.8.5"
  },
  "orig_nbformat": 4
 },
 "nbformat": 4,
 "nbformat_minor": 2
}
